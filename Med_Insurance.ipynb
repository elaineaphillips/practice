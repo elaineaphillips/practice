{
 "cells": [
  {
   "cell_type": "code",
   "execution_count": 10,
   "id": "7f05e784-1722-475c-93ee-71ebe7201e25",
   "metadata": {},
   "outputs": [
    {
     "name": "stdout",
     "output_type": "stream",
     "text": [
      "sex           female       male  Difference - Female  Difference - Male\n",
      "region                                                                 \n",
      "northeast  29.324317  29.024540             0.150814          -0.148963\n",
      "northwest  29.277957  29.120155             0.078173          -0.079629\n",
      "southeast  32.671257  33.990000            -0.684732           0.634011\n",
      "southwest  30.060494  31.129448            -0.536122           0.532832\n"
     ]
    }
   ],
   "source": [
    "import pandas as pd\n",
    "\n",
    "# Load the insurance data\n",
    "insurance_data = pd.read_csv('insurance.csv')   \n",
    "\n",
    "# Group data by region and sex, then calculate the average BMI\n",
    "# Calculate the average BMI for each gender within each region\n",
    "grouped_data = insurance_data.groupby(['region', 'sex'])\n",
    "bmi_by_gender_region = grouped_data['bmi'].mean().unstack()\n",
    "\n",
    "# Calculate the overall average BMI for each region\n",
    "overall_bmi_by_region = insurance_data.groupby('region')['bmi'].mean()\n",
    "\n",
    "# Calculate the difference from the regional mean\n",
    "difference_from_mean = bmi_by_gender_region.apply(lambda x: x - overall_bmi_by_region)\n",
    "\n",
    "# Combine the results\n",
    "final_results = bmi_by_gender_region.copy()\n",
    "final_results['Difference - Female'] = difference_from_mean['female']\n",
    "final_results['Difference - Male'] = difference_from_mean['male']\n",
    "\n",
    "# Print the results\n",
    "print(final_results)\n",
    "#highest BMI in southeast"
   ]
  },
  {
   "cell_type": "code",
   "execution_count": 12,
   "id": "ff18b6e6-b27f-4d5e-bcd6-0884c6f24e6a",
   "metadata": {},
   "outputs": [
    {
     "name": "stdout",
     "output_type": "stream",
     "text": [
      "children\n",
      "0    30.550296\n",
      "1    30.623148\n",
      "2    30.978104\n",
      "3    30.684331\n",
      "4    31.391200\n",
      "5    29.605000\n",
      "Name: bmi, dtype: float64\n"
     ]
    }
   ],
   "source": [
    "# Group data by the number of children and calculate the average BMI\n",
    "bmi_by_children = insurance_data.groupby('children')['bmi'].mean()\n",
    "\n",
    "# Print the results\n",
    "print(bmi_by_children)"
   ]
  },
  {
   "cell_type": "code",
   "execution_count": null,
   "id": "a3e9abea-232c-4657-95a3-1de080a748d0",
   "metadata": {},
   "outputs": [],
   "source": []
  }
 ],
 "metadata": {
  "kernelspec": {
   "display_name": "Python 3 (ipykernel)",
   "language": "python",
   "name": "python3"
  },
  "language_info": {
   "codemirror_mode": {
    "name": "ipython",
    "version": 3
   },
   "file_extension": ".py",
   "mimetype": "text/x-python",
   "name": "python",
   "nbconvert_exporter": "python",
   "pygments_lexer": "ipython3",
   "version": "3.12.7"
  }
 },
 "nbformat": 4,
 "nbformat_minor": 5
}
